{
 "cells": [
  {
   "cell_type": "code",
   "execution_count": 13,
   "metadata": {},
   "outputs": [],
   "source": [
    "import os\n",
    "os.environ['picaso_refdata'] = '/data/pt426/picaso/reference' #THIS MUST GO BEFORE YOUR IMPORT STATEMENT\n",
    "os.environ['PYSYN_CDBS'] = '/data/pt426/synphot3/grp/redcat/trds' #this is for the stellar data discussed below."
   ]
  },
  {
   "cell_type": "code",
   "execution_count": 14,
   "metadata": {},
   "outputs": [],
   "source": [
    "import warnings\n",
    "warnings.filterwarnings('ignore')\n",
    "import picaso.justdoit as jdi\n",
    "import picaso.justplotit as jpi\n",
    "import astropy.units as u\n",
    "import numpy as np\n",
    "import matplotlib.pyplot as plt\n",
    "%matplotlib inline"
   ]
  },
  {
   "cell_type": "code",
   "execution_count": 30,
   "metadata": {},
   "outputs": [
    {
     "name": "stdout",
     "output_type": "stream",
     "text": [
      "/data/pt426/kcoeff/sonora_2020_feh+000_co_100.data.196\n"
     ]
    }
   ],
   "source": [
    "#1 ck tables from roxana\n",
    "mh = '+000' #log metallicity\n",
    "CtoO = '100'# CtoO ratio relative to solar\n",
    "\n",
    "ck_db = f'/data/pt426/kcoeff/sonora_2020_feh{mh}_co_{CtoO}.data.196'\n",
    "ck = '/data/pt426/kcoeff/sonora_2020_feh+100_co_100.data.196'\n",
    "\n",
    "print(ck_db)"
   ]
  },
  {
   "cell_type": "code",
   "execution_count": 28,
   "metadata": {},
   "outputs": [],
   "source": [
    "cl_run = jdi.inputs(calculation=\"planet\", climate = True) # start a calculation\n",
    "\n",
    "#note you need to put the climate keyword to be True in order to do so\n",
    "# now you need to add these parameters to your calculation\n",
    "\n",
    "\n",
    "tint= 2000 # Intrinsic Temperature of your Planet in K (set as a high internal temp due to impact residual heat)\n",
    "grav = 9.34 # Gravity of your Planet in m/s/s\n",
    "\n",
    "cl_run.gravity(gravity=grav, gravity_unit=u.Unit('m/(s**2)')) # input gravity\n",
    "cl_run.effective_temp(tint) # input effective temperature"
   ]
  },
  {
   "cell_type": "code",
   "execution_count": 31,
   "metadata": {},
   "outputs": [
    {
     "ename": "TypeError",
     "evalue": "expected str, bytes or os.PathLike object, not NoneType",
     "output_type": "error",
     "traceback": [
      "\u001b[0;31m---------------------------------------------------------------------------\u001b[0m",
      "\u001b[0;31mTypeError\u001b[0m                                 Traceback (most recent call last)",
      "Cell \u001b[0;32mIn[31], line 3\u001b[0m\n\u001b[1;32m      1\u001b[0m \u001b[38;5;66;03m# Notice The keyword ck is set to True because you want to use the correlated-k opacities for your calculation\u001b[39;00m\n\u001b[1;32m      2\u001b[0m \u001b[38;5;66;03m# and not the line by line opacities\u001b[39;00m\n\u001b[0;32m----> 3\u001b[0m opacity_ck \u001b[38;5;241m=\u001b[39m \u001b[43mjdi\u001b[49m\u001b[38;5;241;43m.\u001b[39;49m\u001b[43mopannection\u001b[49m\u001b[43m(\u001b[49m\u001b[43mck_db\u001b[49m\u001b[38;5;241;43m=\u001b[39;49m\u001b[43mck\u001b[49m\u001b[43m)\u001b[49m \u001b[38;5;66;03m# grab your opacities\u001b[39;00m\n",
      "File \u001b[0;32m~/Code/sub-neptune-impacts-v2/.venv/lib64/python3.9/site-packages/picaso/justdoit.py:1177\u001b[0m, in \u001b[0;36mopannection\u001b[0;34m(wave_range, filename_db, raman_db, resample, ck_db, deq, on_fly, gases_fly, ck, verbose)\u001b[0m\n\u001b[1;32m   1175\u001b[0m         \u001b[38;5;28;01melse\u001b[39;00m: \n\u001b[1;32m   1176\u001b[0m             \u001b[38;5;28;01mraise\u001b[39;00m \u001b[38;5;167;01mException\u001b[39;00m(\u001b[38;5;124m'\u001b[39m\u001b[38;5;124mThe CK filename that you have selected does not exist. Please make sure you have downloaded and unpacked the right CK file.\u001b[39m\u001b[38;5;124m'\u001b[39m)\n\u001b[0;32m-> 1177\u001b[0m     opacityclass\u001b[38;5;241m=\u001b[39m\u001b[43mRetrieveCKs\u001b[49m\u001b[43m(\u001b[49m\n\u001b[1;32m   1178\u001b[0m \u001b[43m                \u001b[49m\u001b[43mck_db\u001b[49m\u001b[43m,\u001b[49m\u001b[43m \u001b[49m\n\u001b[1;32m   1179\u001b[0m \u001b[43m                \u001b[49m\u001b[43mfilename_db\u001b[49m\u001b[43m,\u001b[49m\u001b[43m \u001b[49m\n\u001b[1;32m   1180\u001b[0m \u001b[43m                \u001b[49m\u001b[43mwave_range\u001b[49m\u001b[43m \u001b[49m\u001b[38;5;241;43m=\u001b[39;49m\u001b[43m \u001b[49m\u001b[43mwave_range\u001b[49m\u001b[43m,\u001b[49m\u001b[43m \u001b[49m\n\u001b[1;32m   1181\u001b[0m \u001b[43m                \u001b[49m\u001b[43mdeq\u001b[49m\u001b[38;5;241;43m=\u001b[39;49m\u001b[43mdeq\u001b[49m\u001b[43m,\u001b[49m\u001b[43mon_fly\u001b[49m\u001b[38;5;241;43m=\u001b[39;49m\u001b[43mon_fly\u001b[49m\u001b[43m,\u001b[49m\u001b[43mgases_fly\u001b[49m\u001b[43m \u001b[49m\u001b[38;5;241;43m=\u001b[39;49m\u001b[43m \u001b[49m\u001b[43mgases_fly\u001b[49m\u001b[43m)\u001b[49m\n\u001b[1;32m   1183\u001b[0m \u001b[38;5;28;01mreturn\u001b[39;00m opacityclass\n",
      "File \u001b[0;32m~/Code/sub-neptune-impacts-v2/.venv/lib64/python3.9/site-packages/picaso/optics.py:671\u001b[0m, in \u001b[0;36mRetrieveCKs.__init__\u001b[0;34m(self, ck_dir, cont_dir, wave_range, deq, on_fly, gases_fly)\u001b[0m\n\u001b[1;32m    669\u001b[0m     \u001b[38;5;28mself\u001b[39m\u001b[38;5;241m.\u001b[39mget_available_continuum()\n\u001b[1;32m    670\u001b[0m     \u001b[38;5;28mself\u001b[39m\u001b[38;5;241m.\u001b[39mget_available_rayleigh()\n\u001b[0;32m--> 671\u001b[0m     \u001b[38;5;28;43mself\u001b[39;49m\u001b[38;5;241;43m.\u001b[39;49m\u001b[43mrun_cia_spline\u001b[49m\u001b[43m(\u001b[49m\u001b[43m)\u001b[49m\n\u001b[1;32m    674\u001b[0m \u001b[38;5;28;01melif\u001b[39;00m (deq \u001b[38;5;241m==\u001b[39m \u001b[38;5;28;01mTrue\u001b[39;00m) \u001b[38;5;129;01mand\u001b[39;00m (on_fly \u001b[38;5;241m==\u001b[39m \u001b[38;5;28;01mFalse\u001b[39;00m) :\n\u001b[1;32m    675\u001b[0m     \u001b[38;5;66;03m#this option follows the old method where we used \u001b[39;00m\n\u001b[1;32m    676\u001b[0m     \u001b[38;5;66;03m#661 fortran files computed by T.Karidali\u001b[39;00m\n\u001b[1;32m    677\u001b[0m     \u001b[38;5;66;03m#this is why we have to use the 1060 files instead \u001b[39;00m\n\u001b[1;32m    678\u001b[0m     \u001b[38;5;66;03m#of the 1460 files\u001b[39;00m\n\u001b[1;32m    679\u001b[0m     \u001b[38;5;28mself\u001b[39m\u001b[38;5;241m.\u001b[39mget_legacy_data_1060(wave_range,deq\u001b[38;5;241m=\u001b[39mdeq)\n",
      "File \u001b[0;32m~/Code/sub-neptune-impacts-v2/.venv/lib64/python3.9/site-packages/picaso/optics.py:1192\u001b[0m, in \u001b[0;36mRetrieveCKs.run_cia_spline\u001b[0;34m(self)\u001b[0m\n\u001b[1;32m   1190\u001b[0m \u001b[38;5;28mself\u001b[39m\u001b[38;5;241m.\u001b[39mcia_splines \u001b[38;5;241m=\u001b[39m {}\n\u001b[1;32m   1191\u001b[0m \u001b[38;5;28;01mfor\u001b[39;00m i \u001b[38;5;129;01min\u001b[39;00m cia_names :\n\u001b[0;32m-> 1192\u001b[0m     hdul \u001b[38;5;241m=\u001b[39m fits\u001b[38;5;241m.\u001b[39mopen(\u001b[43mos\u001b[49m\u001b[38;5;241;43m.\u001b[39;49m\u001b[43mpath\u001b[49m\u001b[38;5;241;43m.\u001b[39;49m\u001b[43mjoin\u001b[49m\u001b[43m(\u001b[49m\u001b[43m__refdata__\u001b[49m\u001b[43m,\u001b[49m\u001b[38;5;124;43m'\u001b[39;49m\u001b[38;5;124;43mclimate_INPUTS/\u001b[39;49m\u001b[38;5;124;43m'\u001b[39;49m\u001b[38;5;241;43m+\u001b[39;49m\u001b[43mi\u001b[49m\u001b[38;5;241;43m+\u001b[39;49m\u001b[38;5;124;43m'\u001b[39;49m\u001b[38;5;124;43m.fits\u001b[39;49m\u001b[38;5;124;43m'\u001b[39;49m\u001b[43m)\u001b[49m)\n\u001b[1;32m   1193\u001b[0m     data\u001b[38;5;241m=\u001b[39m hdul[\u001b[38;5;241m0\u001b[39m]\u001b[38;5;241m.\u001b[39mdata\n\u001b[1;32m   1194\u001b[0m     \u001b[38;5;28mself\u001b[39m\u001b[38;5;241m.\u001b[39mcia_splines[i] \u001b[38;5;241m=\u001b[39m data\n",
      "File \u001b[0;32m/usr/lib64/python3.9/posixpath.py:76\u001b[0m, in \u001b[0;36mjoin\u001b[0;34m(a, *p)\u001b[0m\n\u001b[1;32m     71\u001b[0m \u001b[38;5;28;01mdef\u001b[39;00m \u001b[38;5;21mjoin\u001b[39m(a, \u001b[38;5;241m*\u001b[39mp):\n\u001b[1;32m     72\u001b[0m \u001b[38;5;250m    \u001b[39m\u001b[38;5;124;03m\"\"\"Join two or more pathname components, inserting '/' as needed.\u001b[39;00m\n\u001b[1;32m     73\u001b[0m \u001b[38;5;124;03m    If any component is an absolute path, all previous path components\u001b[39;00m\n\u001b[1;32m     74\u001b[0m \u001b[38;5;124;03m    will be discarded.  An empty last part will result in a path that\u001b[39;00m\n\u001b[1;32m     75\u001b[0m \u001b[38;5;124;03m    ends with a separator.\"\"\"\u001b[39;00m\n\u001b[0;32m---> 76\u001b[0m     a \u001b[38;5;241m=\u001b[39m \u001b[43mos\u001b[49m\u001b[38;5;241;43m.\u001b[39;49m\u001b[43mfspath\u001b[49m\u001b[43m(\u001b[49m\u001b[43ma\u001b[49m\u001b[43m)\u001b[49m\n\u001b[1;32m     77\u001b[0m     sep \u001b[38;5;241m=\u001b[39m _get_sep(a)\n\u001b[1;32m     78\u001b[0m     path \u001b[38;5;241m=\u001b[39m a\n",
      "\u001b[0;31mTypeError\u001b[0m: expected str, bytes or os.PathLike object, not NoneType"
     ]
    }
   ],
   "source": [
    "# Notice The keyword ck is set to True because you want to use the correlated-k opacities for your calculation\n",
    "# and not the line by line opacities\n",
    "opacity_ck = jdi.opannection(ck_db=ck) # grab your opacities"
   ]
  },
  {
   "cell_type": "code",
   "execution_count": null,
   "metadata": {},
   "outputs": [],
   "source": [
    "# set to the sun\n",
    "\n",
    "T_star = 5700 # K, star effective temperature\n",
    "logg = 4.4 #logg , cgs\n",
    "metal = 0 # metallicity of star\n",
    "r_star = 1 # solar radius\n",
    "semi_major = 1 # star planet distance, AU\n",
    "\n",
    "cl_run.star(opacity_ck, temp =T_star,metal =metal, logg =logg, radius = r_star,\n",
    "            radius_unit=u.R_sun,semi_major= semi_major , semi_major_unit = u.AU)#opacity db, pysynphot database, temp, metallicity, logg\n"
   ]
  },
  {
   "cell_type": "code",
   "execution_count": null,
   "metadata": {},
   "outputs": [],
   "source": [
    "nlevel = 91 # number of plane-parallel levels in your code\n",
    "\n",
    "#Lets set the max and min at 1e-4 bars and 500 bars\n",
    "Teq = 300 # planet equilibrium temperature (set to same order of mag as Earth)\n",
    "pt = cl_run.guillot_pt(Teq, nlevel=nlevel, T_int = tint, p_bottom=2, p_top=-6)\n",
    "temp_guess = pt['temperature'].values\n",
    "pressure = pt['pressure'].values"
   ]
  },
  {
   "cell_type": "code",
   "execution_count": null,
   "metadata": {},
   "outputs": [],
   "source": [
    "nofczns = 1 # number of convective zones initially. Let's not play with this for now.\n",
    "\n",
    "nstr_upper = 85 # top most level of guessed convective zone\n",
    "nstr_deep = nlevel -2 # this is always the case. Dont change this\n",
    "nstr = np.array([0,nstr_upper,nstr_deep,0,0,0]) # initial guess of convective zones\n",
    "\n",
    "# Here are some other parameters needed for the code.\n",
    "rfacv = 0.5 #we are focused on a brown dwarf so let's keep this as is"
   ]
  },
  {
   "cell_type": "code",
   "execution_count": null,
   "metadata": {},
   "outputs": [],
   "source": [
    "cl_run.inputs_climate(temp_guess=temp_guess, pressure=pressure,\n",
    "                      nstr=nstr, nofczns=nofczns , rfacv=rfacv)"
   ]
  },
  {
   "cell_type": "code",
   "execution_count": null,
   "metadata": {},
   "outputs": [],
   "source": [
    "out = cl_run.climate(opacity_ck, save_all_profiles=True,with_spec=True)"
   ]
  }
 ],
 "metadata": {
  "kernelspec": {
   "display_name": ".venv",
   "language": "python",
   "name": "python3"
  },
  "language_info": {
   "codemirror_mode": {
    "name": "ipython",
    "version": 3
   },
   "file_extension": ".py",
   "mimetype": "text/x-python",
   "name": "python",
   "nbconvert_exporter": "python",
   "pygments_lexer": "ipython3",
   "version": "3.9.19"
  }
 },
 "nbformat": 4,
 "nbformat_minor": 2
}
